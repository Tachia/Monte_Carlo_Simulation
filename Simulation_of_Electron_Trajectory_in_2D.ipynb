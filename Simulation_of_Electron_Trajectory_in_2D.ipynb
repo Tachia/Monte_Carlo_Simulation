{
  "nbformat": 4,
  "nbformat_minor": 0,
  "metadata": {
    "colab": {
      "provenance": [],
      "collapsed_sections": [],
      "authorship_tag": "ABX9TyM6RVKK9i1n+mcNpO+sFSlb",
      "include_colab_link": true
    },
    "kernelspec": {
      "name": "python3",
      "display_name": "Python 3"
    },
    "language_info": {
      "name": "python"
    }
  },
  "cells": [
    {
      "cell_type": "markdown",
      "metadata": {
        "id": "view-in-github",
        "colab_type": "text"
      },
      "source": [
        "<a href=\"https://colab.research.google.com/github/Tachia/Monte_Carlo_Simulation/blob/main/Simulation_of_Electron_Trajectory_in_2D.ipynb\" target=\"_parent\"><img src=\"https://colab.research.google.com/assets/colab-badge.svg\" alt=\"Open In Colab\"/></a>"
      ]
    },
    {
      "cell_type": "markdown",
      "source": [
        "**MONTE CARLO SIMULATION TASK (SEPT. 16TH, 2022)**\n",
        "\n",
        "QUESTION:\n",
        "\n",
        "Show the trajectory of an electron motion in 2D using Monte Carlo Simulation, and hence determine the angle, φ and the mean free path, Λ for ten (10) collisions.\n",
        "\n",
        "Given that:\n",
        "\n",
        "1. φ = 2πa, a --- [0,1] \"random valuable\"\n",
        "\n",
        "2. Λ = -λ.ln(a)\n",
        "\n",
        "\n",
        "> where: φ - is the angle between the electron collisions with other particles, a - is Bohr radius, Λ - is the mean free path, λ - is lambda null which is assumed to be 1, ln(a) - is the natural logarithsm of a in base e.\n",
        "\n",
        " \n",
        "\n"
      ],
      "metadata": {
        "id": "cwNctz80mTYM"
      }
    },
    {
      "cell_type": "code",
      "source": [
        "# The first emission of the electron from the source\n",
        "# import the necessary libraries\n",
        "import math\n",
        "import random\n",
        "from math import pi\n",
        "\n",
        "count = 0\n",
        "N = 10\n",
        "\n",
        "while count < 10:\n",
        "    \n",
        "    for num in range(N):    \n",
        "            a = random.uniform(0,1)\n",
        "    \n",
        "    count+=1\n",
        "# I am using these symbols for: λ - lambda null, Λ - mean free path, φ = angle\n",
        "λ = -1\n",
        "φ_1 = 2*pi*a \n",
        "Λ_1 = λ*math.log(a) \n",
        "\n",
        "print ('Number of Iterations: ', count)\n",
        "print (\"\\n\")\n",
        "print ('Bohr Radius, a =', a)\n",
        "print (\"\\n\")\n",
        "print ('The Angle in Radians, φ_1 =', φ_1)\n",
        "print (\"\\n\")\n",
        "print ('The Mean Free Path, Λ_1 =', Λ_1)"
      ],
      "metadata": {
        "colab": {
          "base_uri": "https://localhost:8080/"
        },
        "id": "eYtBHpebmUCp",
        "outputId": "596e4593-008c-46bb-f8d3-09027e9d9301"
      },
      "execution_count": null,
      "outputs": [
        {
          "output_type": "stream",
          "name": "stdout",
          "text": [
            "Number of Iterations:  10\n",
            "\n",
            "\n",
            "Bohr Radius, a = 0.4996687931514875\n",
            "\n",
            "\n",
            "The Angle in Radians, φ_1 = 3.139511619585582\n",
            "\n",
            "\n",
            "The Mean Free Path, Λ_1 = 0.6938098137498587\n"
          ]
        }
      ]
    },
    {
      "cell_type": "markdown",
      "source": [],
      "metadata": {
        "id": "DBDULBSIt30h"
      }
    },
    {
      "cell_type": "code",
      "source": [],
      "metadata": {
        "id": "FTcXmLSnt5St"
      },
      "execution_count": null,
      "outputs": []
    },
    {
      "cell_type": "code",
      "source": [
        "# The second emission of the electron\n",
        "# import the necessary libraries\n",
        "import math\n",
        "import random\n",
        "from math import pi\n",
        "\n",
        "count = 0\n",
        "N = 10\n",
        "\n",
        "while count < 10:\n",
        "    \n",
        "    for num in range(N):    \n",
        "            a = random.uniform(0,1)\n",
        "    \n",
        "    count+=1\n",
        "# I am using these symbols for: λ - lambda null, Λ - mean free path, φ = angle\n",
        "λ = -1\n",
        "φ_2 = 2*pi*a \n",
        "Λ_2 = λ*math.log(a) \n",
        "\n",
        "print ('Number of Iterations: ', count)\n",
        "print (\"\\n\")\n",
        "print ('Bohr Radius, a =', a)\n",
        "print (\"\\n\")\n",
        "print ('The Angle in Radians, φ_2 =', φ_2)\n",
        "print (\"\\n\")\n",
        "print ('The Mean Free Path, Λ_2 =', Λ_2)"
      ],
      "metadata": {
        "colab": {
          "base_uri": "https://localhost:8080/"
        },
        "id": "N5X3pPuyt5Zi",
        "outputId": "b25fd9a9-da27-439e-c614-1f12703f9820"
      },
      "execution_count": null,
      "outputs": [
        {
          "output_type": "stream",
          "name": "stdout",
          "text": [
            "Number of Iterations:  10\n",
            "\n",
            "\n",
            "Bohr Radius, a = 0.39050074951914004\n",
            "\n",
            "\n",
            "The Angle in Radians, φ_2 = 2.4535885718212764\n",
            "\n",
            "\n",
            "The Mean Free Path, Λ_2 = 0.9403253903210372\n"
          ]
        }
      ]
    },
    {
      "cell_type": "markdown",
      "source": [],
      "metadata": {
        "id": "ZgYzZtccuWtn"
      }
    },
    {
      "cell_type": "code",
      "source": [
        "# The third emission of the electron\n",
        "# import the necessary libraries\n",
        "import math\n",
        "import random\n",
        "from math import pi\n",
        "\n",
        "count = 0\n",
        "N = 10\n",
        "\n",
        "while count < 10:\n",
        "    \n",
        "    for num in range(N):    \n",
        "            a = random.uniform(0,1)\n",
        "    \n",
        "    count+=1\n",
        "# I am using these symbols for: λ - lambda null, Λ - mean free path, φ = angle\n",
        "λ = -1\n",
        "φ_3 = 2*pi*a \n",
        "Λ_3 = λ*math.log(a) \n",
        "\n",
        "print ('Number of Iterations: ', count)\n",
        "print (\"\\n\")\n",
        "print ('Bohr Radius, a =', a)\n",
        "print (\"\\n\")\n",
        "print ('The Angle in Radians, φ_3 =', φ_3)\n",
        "print (\"\\n\")\n",
        "print ('The Mean Free Path, Λ_3 =', Λ_3)"
      ],
      "metadata": {
        "colab": {
          "base_uri": "https://localhost:8080/"
        },
        "id": "cRAkfQ_uuXPb",
        "outputId": "d78292b5-f0cb-46df-ef5b-002044e75bcf"
      },
      "execution_count": null,
      "outputs": [
        {
          "output_type": "stream",
          "name": "stdout",
          "text": [
            "Number of Iterations:  10\n",
            "\n",
            "\n",
            "Bohr Radius, a = 0.8995280273257571\n",
            "\n",
            "\n",
            "The Angle in Radians, φ_3 = 5.651901284689434\n",
            "\n",
            "\n",
            "The Mean Free Path, Λ_3 = 0.10588506729347535\n"
          ]
        }
      ]
    },
    {
      "cell_type": "markdown",
      "source": [],
      "metadata": {
        "id": "L1hql-ZfulWo"
      }
    },
    {
      "cell_type": "code",
      "source": [
        "# The fouth emission of the electron\n",
        "# import the necessary libraries\n",
        "import math\n",
        "import random\n",
        "from math import pi\n",
        "\n",
        "count = 0\n",
        "N = 10\n",
        "\n",
        "while count < 10:\n",
        "    \n",
        "    for num in range(N):    \n",
        "            a = random.uniform(0,1)\n",
        "    \n",
        "    count+=1\n",
        "# I am using these symbols for: λ - lambda null, Λ - mean free path, φ = angle\n",
        "λ = -1\n",
        "φ_4 = 2*pi*a \n",
        "Λ_4 = λ*math.log(a) \n",
        "\n",
        "print ('Number of Iterations: ', count)\n",
        "print (\"\\n\")\n",
        "print ('Bohr Radius, a =', a)\n",
        "print (\"\\n\")\n",
        "print ('The Angle in Radians, φ_4 =', φ_4)\n",
        "print (\"\\n\")\n",
        "print ('The Mean Free Path, Λ_4 =', Λ_4)"
      ],
      "metadata": {
        "colab": {
          "base_uri": "https://localhost:8080/"
        },
        "id": "DR8HF-EFumAx",
        "outputId": "6fbc9931-92b6-4a9d-8608-beae2e90620d"
      },
      "execution_count": null,
      "outputs": [
        {
          "output_type": "stream",
          "name": "stdout",
          "text": [
            "Number of Iterations:  10\n",
            "\n",
            "\n",
            "Bohr Radius, a = 0.7474829554710871\n",
            "\n",
            "\n",
            "The Angle in Radians, φ_4 = 4.696573923183108\n",
            "\n",
            "\n",
            "The Mean Free Path, Λ_4 = 0.29104377602263454\n"
          ]
        }
      ]
    },
    {
      "cell_type": "markdown",
      "source": [],
      "metadata": {
        "id": "XN3y7sokuy7S"
      }
    },
    {
      "cell_type": "code",
      "source": [
        "# The fifth emission of the electron\n",
        "# import the necessary libraries\n",
        "import math\n",
        "import random\n",
        "from math import pi\n",
        "\n",
        "count = 0\n",
        "N = 10\n",
        "\n",
        "while count < 10:\n",
        "    \n",
        "    for num in range(N):    \n",
        "            a = random.uniform(0,1)\n",
        "    \n",
        "    count+=1\n",
        "# I am using these symbols for: λ - lambda null, Λ - mean free path, φ = angle\n",
        "λ = -1\n",
        "φ_5 = 2*pi*a \n",
        "Λ_5 = λ*math.log(a) \n",
        "\n",
        "print ('Number of Iterations: ', count)\n",
        "print (\"\\n\")\n",
        "print ('Bohr Radius, a =', a)\n",
        "print (\"\\n\")\n",
        "print ('The Angle in Radians, φ_5 =', φ_5)\n",
        "print (\"\\n\")\n",
        "print ('The Mean Free Path, Λ_5 =', Λ_5)"
      ],
      "metadata": {
        "colab": {
          "base_uri": "https://localhost:8080/"
        },
        "id": "Aw3STbZvuziG",
        "outputId": "62efa39a-4f60-48f3-8ed1-a54b66263591"
      },
      "execution_count": null,
      "outputs": [
        {
          "output_type": "stream",
          "name": "stdout",
          "text": [
            "Number of Iterations:  10\n",
            "\n",
            "\n",
            "Bohr Radius, a = 0.25465595241500705\n",
            "\n",
            "\n",
            "The Angle in Radians, φ_5 = 1.600050538599796\n",
            "\n",
            "\n",
            "The Mean Free Path, Λ_5 = 1.3678418510375843\n"
          ]
        }
      ]
    },
    {
      "cell_type": "markdown",
      "source": [],
      "metadata": {
        "id": "zVVDt6KWvCID"
      }
    },
    {
      "cell_type": "code",
      "source": [
        "# The sixth emission of the electron\n",
        "# import the necessary libraries\n",
        "import math\n",
        "import random\n",
        "from math import pi\n",
        "\n",
        "count = 0\n",
        "N = 10\n",
        "\n",
        "while count < 10:\n",
        "    \n",
        "    for num in range(N):    \n",
        "            a = random.uniform(0,1)\n",
        "    \n",
        "    count+=1\n",
        "# I am using these symbols for: λ - lambda null, Λ - mean free path, φ = angle\n",
        "λ = -1\n",
        "φ_6 = 2*pi*a \n",
        "Λ_6 = λ*math.log(a) \n",
        "\n",
        "print ('Number of Iterations: ', count)\n",
        "print (\"\\n\")\n",
        "print ('Bohr Radius, a =', a)\n",
        "print (\"\\n\")\n",
        "print ('The Angle in Radians, φ_6 =', φ_6)\n",
        "print (\"\\n\")\n",
        "print ('The Mean Free Path, Λ_6 =', Λ_6)"
      ],
      "metadata": {
        "colab": {
          "base_uri": "https://localhost:8080/"
        },
        "id": "GhxuhtlQvCnJ",
        "outputId": "1f5dd10c-35fd-449d-9d47-e5744368cb8b"
      },
      "execution_count": null,
      "outputs": [
        {
          "output_type": "stream",
          "name": "stdout",
          "text": [
            "Number of Iterations:  10\n",
            "\n",
            "\n",
            "Bohr Radius, a = 0.13783109279781236\n",
            "\n",
            "\n",
            "The Angle in Radians, φ_6 = 0.8660182971397207\n",
            "\n",
            "\n",
            "The Mean Free Path, Λ_6 = 1.9817263087153876\n"
          ]
        }
      ]
    },
    {
      "cell_type": "markdown",
      "source": [],
      "metadata": {
        "id": "19GdZVPevPkU"
      }
    },
    {
      "cell_type": "code",
      "source": [
        "# The seventh emission of the electron\n",
        "# import the necessary libraries\n",
        "import math\n",
        "import random\n",
        "from math import pi\n",
        "\n",
        "count = 0\n",
        "N = 10\n",
        "\n",
        "while count < 10:\n",
        "    \n",
        "    for num in range(N):    \n",
        "            a = random.uniform(0,1)\n",
        "    \n",
        "    count+=1\n",
        "# I am using these symbols for: λ - lambda null, Λ - mean free path, φ = angle\n",
        "λ = -1\n",
        "φ_7 = 2*pi*a \n",
        "Λ_7 = λ*math.log(a) \n",
        "\n",
        "print ('Number of Iterations: ', count)\n",
        "print (\"\\n\")\n",
        "print ('Bohr Radius, a =', a)\n",
        "print (\"\\n\")\n",
        "print ('The Angle in Radians, φ_7 =', φ_7)\n",
        "print (\"\\n\")\n",
        "print ('The Mean Free Path, Λ_7 =', Λ_7)"
      ],
      "metadata": {
        "colab": {
          "base_uri": "https://localhost:8080/"
        },
        "id": "y6GrdJNvvQH2",
        "outputId": "030b211c-20ad-47ca-d6d6-4fc828c8f031"
      },
      "execution_count": null,
      "outputs": [
        {
          "output_type": "stream",
          "name": "stdout",
          "text": [
            "Number of Iterations:  10\n",
            "\n",
            "\n",
            "Bohr Radius, a = 0.7029761394543581\n",
            "\n",
            "\n",
            "The Angle in Radians, φ_7 = 4.41692935071745\n",
            "\n",
            "\n",
            "The Mean Free Path, Λ_7 = 0.35243232877968955\n"
          ]
        }
      ]
    },
    {
      "cell_type": "markdown",
      "source": [],
      "metadata": {
        "id": "LqOjWXeKv9kt"
      }
    },
    {
      "cell_type": "code",
      "source": [
        "# The eighth emission of the electron\n",
        "# import the necessary libraries\n",
        "import math\n",
        "import random\n",
        "from math import pi\n",
        "\n",
        "count = 0\n",
        "N = 10\n",
        "\n",
        "while count < 10:\n",
        "    \n",
        "    for num in range(N):    \n",
        "            a = random.uniform(0,1)\n",
        "    \n",
        "    count+=1\n",
        "# I am using these symbols for: λ - lambda null, Λ - mean free path, φ = angle\n",
        "λ = -1\n",
        "φ_8 = 2*pi*a \n",
        "Λ_8 = λ*math.log(a) \n",
        "\n",
        "print ('Number of Iterations: ', count)\n",
        "print (\"\\n\")\n",
        "print ('Bohr Radius, a =', a)\n",
        "print (\"\\n\")\n",
        "print ('The Angle in Radians, φ_8 =', φ_8)\n",
        "print (\"\\n\")\n",
        "print ('The Mean Free Path, Λ_8 =', Λ_8)"
      ],
      "metadata": {
        "colab": {
          "base_uri": "https://localhost:8080/"
        },
        "id": "wF01KQ29v-Jj",
        "outputId": "a9099461-3b63-4355-d602-bbe4ba621872"
      },
      "execution_count": null,
      "outputs": [
        {
          "output_type": "stream",
          "name": "stdout",
          "text": [
            "Number of Iterations:  10\n",
            "\n",
            "\n",
            "Bohr Radius, a = 0.15970681021714628\n",
            "\n",
            "\n",
            "The Angle in Radians, φ_8 = 1.003467483412892\n",
            "\n",
            "\n",
            "The Mean Free Path, Λ_8 = 1.8344155808560758\n"
          ]
        }
      ]
    },
    {
      "cell_type": "markdown",
      "source": [],
      "metadata": {
        "id": "0x9f5zf3wQZl"
      }
    },
    {
      "cell_type": "code",
      "source": [
        "# The ninth emission of the electron\n",
        "# import the necessary libraries\n",
        "import math\n",
        "import random\n",
        "from math import pi\n",
        "\n",
        "count = 0\n",
        "N = 10\n",
        "\n",
        "while count < 10:\n",
        "    \n",
        "    for num in range(N):    \n",
        "            a = random.uniform(0,1)\n",
        "    \n",
        "    count+=1\n",
        "# I am using these symbols for: λ - lambda null, Λ - mean free path, φ = angle\n",
        "λ = -1\n",
        "φ_9 = 2*pi*a \n",
        "Λ_9 = λ*math.log(a) \n",
        "\n",
        "print ('Number of Iterations: ', count)\n",
        "print (\"\\n\")\n",
        "print ('Bohr Radius, a =', a)\n",
        "print (\"\\n\")\n",
        "print ('The Angle in Radians, φ_9 =', φ_9)\n",
        "print (\"\\n\")\n",
        "print ('The Mean Free Path, Λ_9 =', Λ_9)"
      ],
      "metadata": {
        "colab": {
          "base_uri": "https://localhost:8080/"
        },
        "id": "FKgrAhHYwRfY",
        "outputId": "46ff24c5-085d-4e68-d22e-7de2e90b5e54"
      },
      "execution_count": null,
      "outputs": [
        {
          "output_type": "stream",
          "name": "stdout",
          "text": [
            "Number of Iterations:  10\n",
            "\n",
            "\n",
            "Bohr Radius, a = 0.8403297079713002\n",
            "\n",
            "\n",
            "The Angle in Radians, φ_9 = 5.279947274311786\n",
            "\n",
            "\n",
            "The Mean Free Path, Λ_9 = 0.17396095466683312\n"
          ]
        }
      ]
    },
    {
      "cell_type": "markdown",
      "source": [],
      "metadata": {
        "id": "z3E1AdxnwgRa"
      }
    },
    {
      "cell_type": "code",
      "source": [
        "# The tenth emission of the electron\n",
        "# import the necessary libraries\n",
        "import math\n",
        "import random\n",
        "from math import pi\n",
        "\n",
        "count = 0\n",
        "N = 10\n",
        "\n",
        "while count < 10:\n",
        "    \n",
        "    for num in range(N):    \n",
        "            a = random.uniform(0,1)\n",
        "    \n",
        "    count+=1\n",
        "# I am using these symbols for: λ - lambda null, Λ - mean free path, φ = angle\n",
        "λ = -1\n",
        "φ_10 = 2*pi*a \n",
        "Λ_10 = λ*math.log(a) \n",
        "\n",
        "print ('Number of Iterations: ', count)\n",
        "print (\"\\n\")\n",
        "print ('Bohr Radius, a =', a)\n",
        "print (\"\\n\")\n",
        "print ('The Angle in Radians, φ_10 =', φ_10)\n",
        "print (\"\\n\")\n",
        "print ('The Mean Free Path, Λ_10 =', Λ_10)"
      ],
      "metadata": {
        "colab": {
          "base_uri": "https://localhost:8080/"
        },
        "id": "HC-XITr5wg3h",
        "outputId": "afef646f-b645-4dda-c952-7906ae0f3b8c"
      },
      "execution_count": null,
      "outputs": [
        {
          "output_type": "stream",
          "name": "stdout",
          "text": [
            "Number of Iterations:  10\n",
            "\n",
            "\n",
            "Bohr Radius, a = 0.8041228692411058\n",
            "\n",
            "\n",
            "The Angle in Radians, φ_10 = 5.052452997182807\n",
            "\n",
            "\n",
            "The Mean Free Path, Λ_10 = 0.21800319904014379\n"
          ]
        }
      ]
    },
    {
      "cell_type": "markdown",
      "source": [],
      "metadata": {
        "id": "otK3lWZvw0HG"
      }
    },
    {
      "cell_type": "code",
      "source": [
        "import matplotlib.pyplot as plt\n",
        "\n",
        "x=[Λ_1, Λ_2, Λ_3, Λ_4, Λ_5, Λ_6, Λ_7, Λ_8, Λ_9, Λ_10]\n",
        "y=[φ_1, φ_2, φ_3, φ_4, φ_5, φ_6, φ_7, φ_8, φ_9, φ_10]\n",
        "plt.plot(x,y)\n",
        "plt.xlabel('Angles of Electrons Trajectory in rad.')\n",
        "plt.ylabel('Mean Free Path in unit metres')\n",
        "plt.title(\"Trajectory of Electron Motion in 2D\")\n",
        "plt.show()"
      ],
      "metadata": {
        "colab": {
          "base_uri": "https://localhost:8080/",
          "height": 295
        },
        "id": "F6peLX1Gz1Rx",
        "outputId": "57cbe55e-47b4-4c17-f6c3-e940a698d327"
      },
      "execution_count": null,
      "outputs": [
        {
          "output_type": "display_data",
          "data": {
            "text/plain": [
              "<Figure size 432x288 with 1 Axes>"
            ],
            "image/png": "[encoded data removed]"
          },
          "metadata": {
            "needs_background": "light"
          }
        }
      ]
    },
    {
      "cell_type": "code",
      "source": [
        "import matplotlib.pyplot as plt\n",
        "\n",
        "x=[Λ_1, Λ_2, Λ_3, Λ_4, Λ_5, Λ_6, Λ_7, Λ_8, Λ_9, Λ_10]\n",
        "y=[φ_1, φ_2, φ_3, φ_4, φ_5, φ_6, φ_7, φ_8, φ_9, φ_10]\n",
        "plt.plot(x,y)\n",
        "plt.xlabel('Angles of Electrons Trajectory in rad.')\n",
        "plt.ylabel('Mean Free Path in unit metres')\n",
        "\n",
        "plt.plot(x, y, color='green', linestyle='dashed', linewidth = 3,\n",
        "         marker='o', markerfacecolor='blue', markersize=12)\n",
        "plt.title(\"Trajectory of Electron Motion in 2D\")\n",
        "plt.show()"
      ],
      "metadata": {
        "colab": {
          "base_uri": "https://localhost:8080/",
          "height": 295
        },
        "id": "w4PAqg2L7z0n",
        "outputId": "679fc6df-b6f0-418f-d278-3fa99346411c"
      },
      "execution_count": null,
      "outputs": [
        {
          "output_type": "display_data",
          "data": {
            "text/plain": [
              "<Figure size 432x288 with 1 Axes>"
            ],
            "image/png": "[encoded data removed]"
          },
          "metadata": {
            "needs_background": "light"
          }
        }
      ]
    },
    {
      "cell_type": "code",
      "source": [
        "import matplotlib.pyplot as plt\n",
        "\n",
        "x_1=[0, Λ_1]\n",
        "y_1=[0, φ_1]\n",
        "x_2=[Λ_1, Λ_2]\n",
        "y_2=[φ_1, φ_2]\n",
        "x_3=[Λ_2, Λ_3]\n",
        "y_3=[φ_2, φ_3]\n",
        "x_4=[Λ_3, Λ_4]\n",
        "y_4=[φ_3, φ_4]\n",
        "x_5=[Λ_4, Λ_5]\n",
        "y_5=[φ_4, φ_5]\n",
        "x_6=[Λ_5, Λ_6]\n",
        "y_6=[φ_5, φ_6]\n",
        "x_7=[Λ_6, Λ_7]\n",
        "y_7=[φ_6, φ_7]\n",
        "x_8=[Λ_7, Λ_8]\n",
        "y_8=[φ_7, φ_8]\n",
        "x_9=[Λ_8, Λ_9]\n",
        "y_9=[φ_8, φ_9]\n",
        "x_10=[Λ_9, Λ_10]\n",
        "y_10=[φ_9, φ_10]\n",
        "\n",
        "plt.plot(x_1, y_1, \"r\")\n",
        "# make line one green\n",
        "plt.plot(x_2, y_2, \"g\")\n",
        "plt.plot(x_3, y_3, \"g\")\n",
        "# make line one green\n",
        "plt.plot(x_4, y_4, \"pink\")\n",
        "plt.plot(x_5, y_5, \"lightblue\")\n",
        "# make line one green\n",
        "plt.plot(x_6, y_6, \"olive\")\n",
        "plt.plot(x_7, y_7, \"gold\")\n",
        "# make line one green\n",
        "plt.plot(x_8, y_8, \"skyblue\")\n",
        "plt.plot(x_9, y_9, \"teal\")\n",
        "# make line one green\n",
        "plt.plot(x_10, y_10, \"black\")\n",
        "\n",
        "\n",
        "\n",
        "\n",
        "x = [x_1, x_2, x_3, x_4, x_5, x_6, x_7, x_8, x_9, x_10]\n",
        "y = [y_1, y_2, y_3, y_4, y_5, y_6, y_7, y_8, y_9, y_10]\n",
        "plt.plot(x,y)\n",
        "plt.xlabel('Angles of Electrons Trajectory in rad.')\n",
        "plt.ylabel('Mean Free Path in unit metres')\n",
        "# colors = ['r', 'b', 'g', 'y', 'cyan', 'pink', 'teal', 'gold', 'siver', 'brown']\n",
        "plt.plot(x, y, linestyle='-', linewidth = 3,\n",
        "           marker='o', markerfacecolor='blue', markersize=12)\n",
        "plt.title(\"Trajectory of Electron Motion in 2D\")\n",
        "plt.show()"
      ],
      "metadata": {
        "colab": {
          "base_uri": "https://localhost:8080/",
          "height": 295
        },
        "id": "3YnAz6QERUzD",
        "outputId": "73504738-0f9f-4d46-d96d-cced01fbb9d5"
      },
      "execution_count": null,
      "outputs": [
        {
          "output_type": "display_data",
          "data": {
            "text/plain": [
              "<Figure size 432x288 with 1 Axes>"
            ],
            "image/png": "[encoded data removed]"
          },
          "metadata": {
            "needs_background": "light"
          }
        }
      ]
    },
    {
      "cell_type": "code",
      "source": [],
      "metadata": {
        "id": "T_KHEQVOb9C0"
      },
      "execution_count": null,
      "outputs": []
    },
    {
      "cell_type": "code",
      "source": [
        "import matplotlib.pyplot as plt\n",
        "\n",
        "x_1=[0, Λ_1]\n",
        "y_1=[0, φ_1]\n",
        "x_2=[0, Λ_2]\n",
        "y_2=[0, φ_2]\n",
        "x_3=[0, Λ_3]\n",
        "y_3=[0, φ_3]\n",
        "x_4=[0, Λ_4]\n",
        "y_4=[0, φ_4]\n",
        "x_5=[0, Λ_5]\n",
        "y_5=[0, φ_5]\n",
        "x_6=[0, Λ_6]\n",
        "y_6=[0, φ_6]\n",
        "x_7=[0, Λ_7]\n",
        "y_7=[0, φ_7]\n",
        "x_8=[0, Λ_8]\n",
        "y_8=[0, φ_8]\n",
        "x_9=[0, Λ_9]\n",
        "y_9=[0, φ_9]\n",
        "x_10=[0, Λ_10]\n",
        "y_10=[0, φ_10]\n",
        "\n",
        "plt.plot(x_1, y_1, \"r\", linestyle='-', linewidth = 3,\n",
        "             marker='o', markerfacecolor='blue', markersize=12)\n",
        "# make line one green\n",
        "plt.plot(x_2, y_2, \"cyan\", linestyle='-', linewidth = 3,\n",
        "             marker='o', markerfacecolor='blue', markersize=12)\n",
        "plt.plot(x_3, y_3, \"g\", linestyle='-', linewidth = 3,\n",
        "             marker='o', markerfacecolor='blue', markersize=12)\n",
        "# make line one green\n",
        "plt.plot(x_4, y_4, \"pink\", linestyle='-', linewidth = 3,\n",
        "             marker='o', markerfacecolor='blue', markersize=12)\n",
        "plt.plot(x_5, y_5, \"yellow\", linestyle='-', linewidth = 3,\n",
        "             marker='o', markerfacecolor='blue', markersize=12)\n",
        "# make line one green\n",
        "plt.plot(x_6, y_6, \"olive\", linestyle='-', linewidth = 3,\n",
        "             marker='o', markerfacecolor='blue', markersize=12)\n",
        "plt.plot(x_7, y_7, \"gold\", linestyle='-', linewidth = 3,\n",
        "             marker='o', markerfacecolor='blue', markersize=12)\n",
        "# make line one green\n",
        "plt.plot(x_8, y_8, \"skyblue\", linestyle='-', linewidth = 3, marker='o', markerfacecolor='blue', markersize=12)\n",
        "plt.plot(x_9, y_9, \"teal\", linestyle='-', linewidth = 3, marker='o', markerfacecolor='blue', markersize=12)\n",
        "# make line one green\n",
        "plt.plot(x_10, y_10, \"black\", linestyle='-', linewidth = 3, marker='o', markerfacecolor='blue', markersize=12)\n",
        "\n",
        "# x = [x_1, x_2, x_3, x_4, x_5, x_6, x_7, x_8, x_9, x_10]\n",
        "# y = [y_1, y_2, y_3, y_4, y_5, y_6, y_7, y_8, y_9, y_10]\n",
        "#plt.plot(x,y)\n",
        "# plt.xlabel('Angles of Electrons Trajectory in rad.')\n",
        "# plt.ylabel('Mean Free Path in unit metres')\n",
        "# # colors = ['r', 'b', 'g', 'y', 'cyan', 'pink', 'teal', 'gold', 'siver', 'brown']\n",
        "# plt.plot(x, y, linestyle='-', linewidth = 3,\n",
        "#             marker='o', markerfacecolor='blue', markersize=12)\n",
        "# plt.title(\"Trajectory of Electron Motion in 2D\")\n",
        "# plt.show()\n",
        "\n",
        "# x = [x_1, x_2, x_3, x_4, x_5, x_6, x_7, x_8, x_9, x_10]\n",
        "# y = [y_1, y_2, y_3, y_4, y_5, y_6, y_7, y_8, y_9, y_10]\n",
        "# plt.plot(x,y)\n",
        "# plt.xlabel('Angles of Electrons Trajectory in rad.')\n",
        "# plt.ylabel('Mean Free Path in unit metres')\n",
        "# colors = ['r', 'b', 'g', 'y', 'cyan', 'pink', 'teal', 'gold', 'siver', 'brown']\n",
        "# plt.plot(x, y, linestyle='-', linewidth = 3,\n",
        "#              marker='o', markerfacecolor='blue', markersize=12)\n",
        "# # plt.title(\"Trajectory of Electron Motion in 2D\")\n",
        "plt.show()"
      ],
      "metadata": {
        "colab": {
          "base_uri": "https://localhost:8080/",
          "height": 265
        },
        "outputId": "df429356-fefe-4626-b3d5-1f4960453b4c",
        "id": "fhOiupjTb-F0"
      },
      "execution_count": null,
      "outputs": [
        {
          "output_type": "display_data",
          "data": {
            "text/plain": [
              "<Figure size 432x288 with 1 Axes>"
            ],
            "image/png": "[encoded data removed]"
          },
          "metadata": {
            "needs_background": "light"
          }
        }
      ]
    }
  ]
}